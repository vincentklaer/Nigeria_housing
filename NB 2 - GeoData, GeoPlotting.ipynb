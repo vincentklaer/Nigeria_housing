{
 "cells": [
  {
   "cell_type": "markdown",
   "id": "c3845b91",
   "metadata": {},
   "source": [
    "# 🎯 Geodata and Mapplots"
   ]
  },
  {
   "cell_type": "code",
   "execution_count": null,
   "id": "e558d512",
   "metadata": {},
   "outputs": [],
   "source": [
    "import pandas as pd\n",
    "import numpy as np \n",
    "import geopandas as gpd\n",
    "import matplotlib.pyplot as plt\n",
    "import seaborn as sns\n",
    "from geopy.geocoders import Nominatim\n",
    "import contextily as cx\n",
    "from collections import Counter\n",
    "import matplotlib.font_manager\n",
    "from mpl_toolkits.axes_grid1 import make_axes_locatable"
   ]
  },
  {
   "cell_type": "code",
   "execution_count": null,
   "id": "2f7c2f30",
   "metadata": {},
   "outputs": [],
   "source": [
    "df = pd.read_csv(\"C:/Data/DSF Project/NigeriaCleanedFinal.csv\")"
   ]
  },
  {
   "cell_type": "markdown",
   "id": "059c6ad0",
   "metadata": {},
   "source": [
    "Adding a concatenated location Column"
   ]
  },
  {
   "cell_type": "code",
   "execution_count": null,
   "id": "22d73561",
   "metadata": {},
   "outputs": [],
   "source": [
    "df[\"location_append\"] = df[\"Area\"] + \", \" + df[\"State\"]\n",
    "df[\"Price Standard\"] = (df[\"Price\"]-np.mean(df[\"Price\"]))/np.std(df[\"Price\"])"
   ]
  },
  {
   "cell_type": "markdown",
   "id": "be3e8c5d",
   "metadata": {},
   "source": [
    "Create a dataframe by areas with desired metrics"
   ]
  },
  {
   "cell_type": "code",
   "execution_count": null,
   "id": "ee613bb8",
   "metadata": {
    "scrolled": true
   },
   "outputs": [],
   "source": [
    "df_plt = pd.DataFrame()\n",
    "df_plt[\"Area\"] = df[\"location_append\"].unique()\n",
    "df_plt[\"Count\"] = Counter(df[\"location_append\"]).values()\n",
    "\n",
    "\n",
    "medprice = []\n",
    "medpricestd = []\n",
    "meanbed = []\n",
    "meanbath = []\n",
    "pernew = []\n",
    "\n",
    "for i in df_plt[\"Area\"]:\n",
    "    medprice.append(np.median(df.loc[df[\"location_append\"] == i,[\"Price\"]]))\n",
    "    medpricestd.append(np.median(df.loc[df[\"location_append\"] == i,[\"Price Standard\"]]))\n",
    "    meanbed.append(np.array(df.loc[df[\"location_append\"] == i,[\"Bedrooms\"]]).mean())\n",
    "    meanbath.append(np.array(df.loc[df[\"location_append\"] == i,[\"Bathrooms\"]]).mean())\n",
    "    pernew.append((np.array(df.loc[df[\"location_append\"] == i,[\"Newly Built\"]]).sum())/(df.loc[df[\"location_append\"] == i,[\"Newly Built\"]].shape[0]))\n",
    "    \n",
    "df_plt[\"Median Rental Price\"] = medprice\n",
    "df_plt[\"Median Rental Price Standard\"] = medpricestd  \n",
    "df_plt[\"Mean Bedrooms\"] = meanbed \n",
    "df_plt[\"Mean Bathrooms\"] = meanbath\n",
    "df_plt[\"Newly Built Percentage\"] = pernew"
   ]
  },
  {
   "cell_type": "markdown",
   "id": "6d9d2d17",
   "metadata": {},
   "source": [
    "Created a Polygon Shapefile in QGIS based on the Area Classifications used in the Data Set. Import File and combine with Dataframe to add Geodata for each Area. Leaving out Ojo due to inconclusiveness."
   ]
  },
  {
   "cell_type": "code",
   "execution_count": null,
   "id": "89da5fd6",
   "metadata": {
    "scrolled": true
   },
   "outputs": [],
   "source": [
    "#Import Polygon Shapefile and combine with current Dataframe\n",
    "Lagos = gpd.read_file(\"C:/Data/DSF Project/Lagos/Lagos Areas.shp\")\n",
    "Lagos[\"Area\"] = Lagos[\"Name\"] + \", Lagos\"\n",
    "\n",
    "#Merge Dataframes and delete irrelevant information\n",
    "gdf = pd.merge(df_plt, Lagos, how=\"inner\", on=\"Area\")\n",
    "\n",
    "del gdf[\"id\"]\n",
    "del gdf[\"Name\"]\n",
    "\n",
    "#Convert into Geopandas Dataframe and extract centroid coordinates\n",
    "gdf = gpd.GeoDataFrame(gdf) \n",
    "\n",
    "gdf.to_crs('+proj=cea')\n",
    "\n",
    "gdf[\"x\"] = gdf.centroid.x\n",
    "gdf[\"y\"] = gdf.centroid.y"
   ]
  },
  {
   "cell_type": "markdown",
   "id": "7ffcaa52",
   "metadata": {},
   "source": [
    "Implementing acquired Geodata over original Dataset adding coordinates for Machine Learning Purposes"
   ]
  },
  {
   "cell_type": "code",
   "execution_count": null,
   "id": "760fdfb6",
   "metadata": {},
   "outputs": [],
   "source": [
    "long = {}\n",
    "lat = {}\n",
    "\n",
    "for i in gdf[\"Area\"]:\n",
    "    long[i] = gdf.loc[gdf[\"Area\"] == i, [\"x\"]].x.item()\n",
    "    lat[i] = gdf.loc[gdf[\"Area\"] == i, [\"y\"]].y.item()\n",
    "\n",
    "loncol = []\n",
    "latcol = []\n",
    "\n",
    "for i in df[\"location_append\"]:\n",
    "        loncol.append(long[i])\n",
    "        latcol.append(lat[i])\n",
    "\n",
    "df[\"Longitude\"] = loncol\n",
    "df[\"Latitude\"] = latcol"
   ]
  },
  {
   "cell_type": "code",
   "execution_count": null,
   "id": "07a44c42",
   "metadata": {},
   "outputs": [],
   "source": [
    "#df.to_csv(\"C:/Data/DSF Project/NigeriaCleanedFinalCoordinates.csv\") "
   ]
  },
  {
   "cell_type": "markdown",
   "id": "96582c98",
   "metadata": {},
   "source": [
    "Plots:"
   ]
  },
  {
   "cell_type": "code",
   "execution_count": null,
   "id": "a7ef1c7b",
   "metadata": {
    "scrolled": true
   },
   "outputs": [],
   "source": [
    "#Plotting median standardized rental prices by are and mean bedrooms per area\n",
    "def MapPlotNarrow(df, a, b): \n",
    "    \n",
    "    gdf_plt = gdf.loc[gdf[\"Count\"] >= 4]\n",
    "\n",
    "    fig, axs = plt.subplots(1,2,figsize = (9,6))\n",
    "\n",
    "    fig.tight_layout(pad=5)\n",
    "\n",
    "    plt.rcParams[\"font.family\"] = \"Arial Nova\"\n",
    "    \n",
    "    cols = [a,b]\n",
    "    n = -1\n",
    "\n",
    "\n",
    "    for i in cols:\n",
    "\n",
    "        n += 1\n",
    "    \n",
    "        axs[n].set_xlim(3.2,3.75)\n",
    "        axs[n].set_ylim(6.35,6.7)\n",
    "        axs[n].set_title(f\"{i} per Area\")\n",
    "\n",
    "        #Aligning Colorbar to Axis\n",
    "        divider = make_axes_locatable(axs[n])\n",
    "        cax = divider.append_axes(\"right\", size=\"5%\", pad=0.1)\n",
    "\n",
    "\n",
    "        gdf_plt.plot(ax=axs[n], column= i,cmap=\"Blues\", alpha = 0.8, edgecolor='k', linewidth=0.1, legend=True, \n",
    "         legend_kwds={\"cax\" : cax })\n",
    "    \n",
    "        #Adding Basemap\n",
    "        cx.add_basemap(ax=axs[n], source=cx.providers.Stamen.TonerLite, crs=gdf.crs.to_string())\n",
    "        \n",
    "def MapPlotWide(df, a, b): \n",
    "    \n",
    "    gdf_plt = gdf.loc[gdf[\"Count\"] >= 1]\n",
    "\n",
    "    fig, axs = plt.subplots(1,2,figsize = (15,12))\n",
    "\n",
    "    fig.tight_layout(pad=5)\n",
    "    \n",
    "    plt.rcParams[\"font.family\"] = \"Arial Nova\"\n",
    "\n",
    "    cols = [a,b]\n",
    "    n = -1\n",
    "\n",
    "\n",
    "    for i in cols:\n",
    "\n",
    "        n += 1\n",
    "    \n",
    "        axs[n].set_xlim(2.8,4.2)\n",
    "        axs[n].set_ylim(6.35,6.7)\n",
    "        axs[n].set_title(f\"{i} per Area\")\n",
    "\n",
    "        #Aligning Colorbar to Axis\n",
    "        divider = make_axes_locatable(axs[n])\n",
    "        cax = divider.append_axes(\"right\", size=\"5%\", pad=0.1)\n",
    "\n",
    "\n",
    "        gdf_plt.plot(ax=axs[n], column= i,cmap=\"Blues\", alpha = 0.8, edgecolor='k', linewidth=0.1, legend=True, \n",
    "         legend_kwds={\"cax\" : cax })\n",
    "    \n",
    "        #Adding Basemap\n",
    "        cx.add_basemap(ax=axs[n], source=cx.providers.Stamen.TonerLite, crs=gdf.crs.to_string())\n"
   ]
  },
  {
   "cell_type": "code",
   "execution_count": null,
   "id": "2f92a969",
   "metadata": {
    "scrolled": true
   },
   "outputs": [],
   "source": [
    "MapPlotWide(gdf, \"Median Rental Price\", \"Count\")"
   ]
  },
  {
   "cell_type": "code",
   "execution_count": null,
   "id": "3885b2bd",
   "metadata": {
    "scrolled": true
   },
   "outputs": [],
   "source": [
    "MapPlotNarrow(gdf, \"Mean Bedrooms\", \"Newly Built Percentage\")"
   ]
  },
  {
   "cell_type": "markdown",
   "id": "1eac663f",
   "metadata": {},
   "source": [
    "Plots for the Paper"
   ]
  },
  {
   "cell_type": "code",
   "execution_count": null,
   "id": "456af74d",
   "metadata": {
    "scrolled": true
   },
   "outputs": [],
   "source": [
    "#Plots for Paper v.1\n",
    "gdf_plt = gdf.loc[gdf[\"Count\"] >= 1]\n",
    "\n",
    "fig, axs = plt.subplots(1,2,figsize = (20,20))\n",
    "\n",
    "fig.tight_layout(pad=5)\n",
    "\n",
    "plt.rcParams[\"font.family\"] = \"Arial Nova\"\n",
    "    \n",
    "axs[0].set_xlim(2.8,4.2)\n",
    "axs[0].set_ylim(6.35,6.7)\n",
    "axs[0].set_title(\"Median Rental Price per Area\",  size='20')\n",
    "\n",
    "axs[1].set_xlim(2.8,4.2)\n",
    "axs[1].set_ylim(6.35,6.7)\n",
    "axs[1].set_title(\"Count per Area\",  size='20')\n",
    "\n",
    "#Aligning Colorbar to Axis\n",
    "divider0 = make_axes_locatable(axs[0])\n",
    "cax0 = divider0.append_axes(\"right\", size=\"5%\", pad=0.1)\n",
    "\n",
    "divider1 = make_axes_locatable(axs[1])\n",
    "cax1 = divider1.append_axes(\"right\", size=\"5%\", pad=0.1)\n",
    "\n",
    "#Plots\n",
    "gdf_plt.plot(ax=axs[0], column= \"Median Rental Price\",cmap=\"Blues\", alpha = 0.8, edgecolor='k', linewidth=0.1, legend=True, \n",
    "         legend_kwds={\"cax\" : cax0 })\n",
    "gdf_plt.plot(ax=axs[1], column= \"Count\",cmap=\"Blues\",vmin = 0, vmax = 500, alpha = 0.8, edgecolor='k', linewidth=0.1, legend=True, \n",
    "         legend_kwds={\"cax\" : cax1 })    \n",
    "\n",
    "\n",
    "#Adding Basemap\n",
    "cx.add_basemap(ax=axs[0], source=cx.providers.Stamen.TonerLite, crs=gdf.crs.to_string())\n",
    "cx.add_basemap(ax=axs[1], source=cx.providers.Stamen.TonerLite, crs=gdf.crs.to_string())\n",
    "\n",
    "#plt.savefig('C:/Data/DSF Project/map_wide.png')"
   ]
  },
  {
   "cell_type": "code",
   "execution_count": null,
   "id": "352cfe79",
   "metadata": {},
   "outputs": [],
   "source": [
    "#Plots for Paper v.2\n",
    "gdf_plt = gdf.loc[gdf[\"Count\"] >= 1]\n",
    "\n",
    "fig, (ax1, ax2) = plt.subplots(2, 1, figsize=(20, 20))\n",
    "\n",
    "fig.tight_layout(pad=5)\n",
    "\n",
    "plt.subplots_adjust(wspace=0, hspace=-0.5)\n",
    "\n",
    "plt.rcParams['font.family'] = 'Arial Nova'\n",
    "    \n",
    "ax1.set_xlim(3.1,4.2)\n",
    "ax1.set_ylim(6.37,6.7)\n",
    "ax1.set_title(\"Median Rental Price per Area\", font='Arial Nova', size='20')\n",
    "\n",
    "ax2.set_xlim(3.1,4.2)\n",
    "ax2.set_ylim(6.37,6.7)\n",
    "ax2.set_title(\"Count per Area\", size='20')\n",
    "\n",
    "#Aligning Colorbar to Axis\n",
    "divider0 = make_axes_locatable(ax1)\n",
    "cax0 = divider0.append_axes(\"right\", size=\"5%\", pad=0.1)\n",
    "\n",
    "divider1 = make_axes_locatable(ax2)\n",
    "cax1 = divider1.append_axes(\"right\", size=\"5%\", pad=0.1)\n",
    "\n",
    "#Plots\n",
    "gdf_plt.plot(ax=ax1, column= \"Median Rental Price\",cmap=\"Blues\", alpha = 0.8, edgecolor='k', legend=True, \n",
    "         legend_kwds={\"cax\" : cax0 }, linewidth=0.1)\n",
    "gdf_plt.plot(ax=ax2, column= \"Count\",cmap=\"Blues\",vmin = 0, vmax = 500, alpha = 0.8, edgecolor='k',linewidth=0.1, legend=True, \n",
    "         legend_kwds={\"cax\" : cax1 })    \n",
    "\n",
    "\n",
    "#Adding Basemap\n",
    "cx.add_basemap(ax=ax1, source=cx.providers.Stamen.TonerLite, crs=gdf.crs.to_string())\n",
    "cx.add_basemap(ax=ax2, source=cx.providers.Stamen.TonerLite, crs=gdf.crs.to_string())\n",
    "\n",
    "#plt.savefig('C:/Data/DSF Project/map_paper.png')"
   ]
  }
 ],
 "metadata": {
  "kernelspec": {
   "display_name": "Python 3 (ipykernel)",
   "language": "python",
   "name": "python3"
  },
  "language_info": {
   "codemirror_mode": {
    "name": "ipython",
    "version": 3
   },
   "file_extension": ".py",
   "mimetype": "text/x-python",
   "name": "python",
   "nbconvert_exporter": "python",
   "pygments_lexer": "ipython3",
   "version": "3.10.6"
  }
 },
 "nbformat": 4,
 "nbformat_minor": 5
}
